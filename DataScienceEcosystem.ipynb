{
 "cells": [
  {
   "cell_type": "markdown",
   "id": "471a95b5-bba9-448b-9b5d-9f8e45979aa9",
   "metadata": {},
   "source": [
    "# Data Science Tools and Ecosystems"
   ]
  },
  {
   "cell_type": "markdown",
   "id": "0d61f0f1-336e-4b17-8ccc-0461c5e8b4ef",
   "metadata": {},
   "source": [
    "In this notebook,DataScience Tools and Ecosystem are summarized"
   ]
  },
  {
   "cell_type": "markdown",
   "id": "d31fcb45-3556-4b57-943d-949e0d71ce24",
   "metadata": {},
   "source": [
    " Some of the popular Languages that Data Scientists use are:\n",
    " 1. Python\n",
    " 2. R\n",
    " 3. SQl\n",
    " 4. C++\n",
    " 5. Java etc..;\n"
   ]
  },
  {
   "cell_type": "markdown",
   "id": "9677b53e-5d66-4c3b-aee8-27be1d6baa2e",
   "metadata": {},
   "source": [
    " Some of the Commonly Libraries used by Data Scientists Include:\n",
    " 1. TensorFlow\n",
    " 2. Numpy\n",
    " 3. Scipy\n",
    " 4. Pandas\n",
    " 5. MatplotLib\n",
    " 6. Keras\n",
    " 7. sciKit-Learn\n",
    " 8. Pytorch etc..;\n"
   ]
  },
  {
   "cell_type": "markdown",
   "id": "f3eb1f69-3066-46e4-b8e4-da34efe43fc1",
   "metadata": {},
   "source": [
    "|Data science Tools|\n",
    "|---|\n",
    "|SAS|\n",
    "|Apache Hadoop|\n",
    "|TensorFlow|\n"
   ]
  },
  {
   "cell_type": "markdown",
   "id": "8cceb2ab-5f08-484c-95bc-9a349b32fc0d",
   "metadata": {},
   "source": [
    "### Below are a few Examples of evaluating arithmetic expressions"
   ]
  },
  {
   "cell_type": "code",
   "execution_count": 2,
   "id": "5c20356f-14ac-428a-89e6-aef8cb4608e0",
   "metadata": {},
   "outputs": [
    {
     "data": {
      "text/plain": [
       "20"
      ]
     },
     "execution_count": 2,
     "metadata": {},
     "output_type": "execute_result"
    }
   ],
   "source": [
    "# this is a common arithmetic example to multiply and then add integers\n",
    "(4*4)+4\n"
   ]
  },
  {
   "cell_type": "code",
   "execution_count": 3,
   "id": "cf1ad12a-91ae-4275-b3de-2e06fdb4fa88",
   "metadata": {},
   "outputs": [
    {
     "data": {
      "text/plain": [
       "5.0"
      ]
     },
     "execution_count": 3,
     "metadata": {},
     "output_type": "execute_result"
    }
   ],
   "source": [
    "# this will convert 300 minutes to hours\n",
    "300/60"
   ]
  },
  {
   "cell_type": "markdown",
   "id": "1825610c-4051-4dc5-bf97-b4f7699a4c0f",
   "metadata": {},
   "source": [
    "__objective__\n",
    "* List popular Languages for DataScience\n",
    "* List popular libraries for  DataScience\n",
    "* List of well known DataScience Tools\n",
    "* How to provide comments in the cell"
   ]
  },
  {
   "cell_type": "markdown",
   "id": "9dd06c80-513a-47c8-934a-ad1cf32abe12",
   "metadata": {},
   "source": [
    "## Author\n",
    "Ajay kumar"
   ]
  },
  {
   "cell_type": "code",
   "execution_count": null,
   "id": "20ed59a4-41f8-4344-a1af-425abf8ca378",
   "metadata": {},
   "outputs": [],
   "source": []
  }
 ],
 "metadata": {
  "kernelspec": {
   "display_name": "Python 3 (ipykernel)",
   "language": "python",
   "name": "python3"
  },
  "language_info": {
   "codemirror_mode": {
    "name": "ipython",
    "version": 3
   },
   "file_extension": ".py",
   "mimetype": "text/x-python",
   "name": "python",
   "nbconvert_exporter": "python",
   "pygments_lexer": "ipython3",
   "version": "3.12.7"
  }
 },
 "nbformat": 4,
 "nbformat_minor": 5
}
